{
 "cells": [
  {
   "cell_type": "markdown",
   "id": "a108af04",
   "metadata": {},
   "source": [
    "This is a starter notebook for the project, you'll have to import the libraries you'll need, you can find a list of the ones available in this workspace in the requirements.txt file in this workspace. "
   ]
  },
  {
   "cell_type": "code",
   "execution_count": 90,
   "id": "a86fd41a",
   "metadata": {},
   "outputs": [],
   "source": [
    "import os\n",
    "os.environ[\"OPENAI_API_KEY\"] = \"YOU_API_KEY\"\n",
    "os.environ[\"OPENAI_API_BASE\"] = \"https://openai.vocareum.com/v1\"\n",
    "\n",
    "from langchain.llms import OpenAI\n"
   ]
  },
  {
   "cell_type": "code",
   "execution_count": 13,
   "id": "b6c6169b",
   "metadata": {},
   "outputs": [],
   "source": [
    "MODEL_NAME='gpt-3.5-turbo'\n",
    "llm = OpenAI(model_name=MODEL_NAME, temperature=0.5, max_tokens=4000)\n",
    "\n",
    "INSTRUCTION = '''\n",
    "Generate 15 real estate listings in different property types (i.e. Condo, Single Family and etc).\n",
    "'''\n",
    "SAMPLE_LISTING = '''\n",
    "    Price: 865000,\n",
    "    Property Type: \"Single-Family Home\",\n",
    "    Bedrooms: 4,\n",
    "    Bathrooms: 3,\n",
    "    Year Built: 2018,\n",
    "    House Size: 2350,\n",
    "    Garage Space: 2,\n",
    "    HOA Fees ($/mo)\": 75\n",
    "    Description: Step into this stunning 4-bedroom, 3-bathroom single-family home, offering 2,350 square feet of thoughtfully designed living space. Built in 2018, this home balances modern style, function, and comfort in one inviting package.\n",
    "    Inside, you'll find a bright open floor plan ideal for entertaining and daily living. The gourmet kitchen seamlessly connects to the dining and living areas, while the two-car garage provides ample space for vehicles and storage.\n",
    "'''"
   ]
  },
  {
   "cell_type": "code",
   "execution_count": 31,
   "id": "4c946d7e",
   "metadata": {},
   "outputs": [
    {
     "name": "stdout",
     "output_type": "stream",
     "text": [
      "The output should be formatted as a JSON instance that conforms to the JSON schema below.\n",
      "\n",
      "As an example, for the schema {\"properties\": {\"foo\": {\"title\": \"Foo\", \"description\": \"a list of strings\", \"type\": \"array\", \"items\": {\"type\": \"string\"}}}, \"required\": [\"foo\"]}\n",
      "the object {\"foo\": [\"bar\", \"baz\"]} is a well-formatted instance of the schema. The object {\"properties\": {\"foo\": [\"bar\", \"baz\"]}} is not well-formatted.\n",
      "\n",
      "Here is the output schema:\n",
      "```\n",
      "{\"properties\": {\"listing\": {\"title\": \"Listing\", \"description\": \"List of available real estate\", \"type\": \"array\", \"items\": {\"$ref\": \"#/definitions/RealEstateListing\"}}}, \"required\": [\"listing\"], \"definitions\": {\"RealEstateListing\": {\"title\": \"RealEstateListing\", \"type\": \"object\", \"properties\": {\"price\": {\"title\": \"Price\", \"description\": \"Price of the property in USD\", \"minimum\": 0, \"type\": \"integer\"}, \"bedrooms\": {\"title\": \"Bedrooms\", \"description\": \"Number of bedrooms in the property\", \"minimum\": 0, \"type\": \"integer\"}, \"bathrooms\": {\"title\": \"Bathrooms\", \"description\": \"Number of bathrooms in the property\", \"minimum\": 0, \"type\": \"integer\"}, \"house_size\": {\"title\": \"House Size\", \"description\": \"Size of the property in square feet\", \"minimum\": 0, \"type\": \"integer\"}, \"hoa_fees\": {\"title\": \"Hoa Fees\", \"description\": \"HOA fees in USD\", \"minimum\": 0, \"type\": \"integer\"}, \"year_built\": {\"title\": \"Year Built\", \"description\": \"Year built of the house\", \"minimum\": 0, \"type\": \"integer\"}, \"garage_space\": {\"title\": \"Garage Space\", \"description\": \"Garage space.\", \"minimum\": 0, \"type\": \"integer\"}, \"property_type\": {\"title\": \"Property Type\", \"description\": \"Property type\", \"type\": \"string\"}, \"description\": {\"title\": \"Description\", \"description\": \"Description of the property.\", \"type\": \"string\"}}, \"required\": [\"price\", \"bedrooms\", \"bathrooms\", \"house_size\", \"hoa_fees\", \"year_built\", \"garage_space\", \"property_type\", \"description\"]}}}\n",
      "```\n"
     ]
    }
   ],
   "source": [
    "from langchain.output_parsers import PydanticOutputParser\n",
    "from pydantic import BaseModel, Field, NonNegativeInt\n",
    "from typing import List\n",
    "\n",
    "class RealEstateListing(BaseModel):\n",
    "    price: NonNegativeInt = Field(description=\"Price of the property in USD\")\n",
    "    bedrooms: NonNegativeInt = Field(description=\"Number of bedrooms in the property\")\n",
    "    bathrooms: NonNegativeInt = Field(description=\"Number of bathrooms in the property\")\n",
    "    house_size: NonNegativeInt = Field(description=\"Size of the property in square feet\")\n",
    "    hoa_fees: NonNegativeInt = Field(description=\"HOA fees in USD\")\n",
    "    year_built: NonNegativeInt = Field(description=\"Year built of the house\")\n",
    "    garage_space: NonNegativeInt = Field(description=\"Garage space.\")\n",
    "    property_type: str = Field(description=\"Property type\")   \n",
    "    description: str = Field(description=\"Description of the property.\")   \n",
    "\n",
    "class ListingCollection(BaseModel):\n",
    "    listing: List[RealEstateListing] = Field(description=\"List of available real estate\")\n",
    "        \n",
    "parser = PydanticOutputParser(pydantic_object=ListingCollection)\n",
    "print(parser.get_format_instructions())"
   ]
  },
  {
   "cell_type": "code",
   "execution_count": 15,
   "id": "2c64c4da",
   "metadata": {},
   "outputs": [
    {
     "name": "stdout",
     "output_type": "stream",
     "text": [
      "\n",
      "Generate 15 real estate listings in different property types (i.e. Condo, Single Family and etc).\n",
      "\n",
      "The output should be formatted as a JSON instance that conforms to the JSON schema below.\n",
      "\n",
      "As an example, for the schema {\"properties\": {\"foo\": {\"title\": \"Foo\", \"description\": \"a list of strings\", \"type\": \"array\", \"items\": {\"type\": \"string\"}}}, \"required\": [\"foo\"]}\n",
      "the object {\"foo\": [\"bar\", \"baz\"]} is a well-formatted instance of the schema. The object {\"properties\": {\"foo\": [\"bar\", \"baz\"]}} is not well-formatted.\n",
      "\n",
      "Here is the output schema:\n",
      "```\n",
      "{\"properties\": {\"listing\": {\"title\": \"Listing\", \"description\": \"List of available real estate\", \"type\": \"array\", \"items\": {\"$ref\": \"#/definitions/RealEstateListing\"}}}, \"required\": [\"listing\"], \"definitions\": {\"RealEstateListing\": {\"title\": \"RealEstateListing\", \"type\": \"object\", \"properties\": {\"price\": {\"title\": \"Price\", \"description\": \"Price of the property in USD\", \"minimum\": 0, \"type\": \"integer\"}, \"bedrooms\": {\"title\": \"Bedrooms\", \"description\": \"Number of bedrooms in the property\", \"minimum\": 0, \"type\": \"integer\"}, \"bathrooms\": {\"title\": \"Bathrooms\", \"description\": \"Number of bathrooms in the property\", \"minimum\": 0, \"type\": \"integer\"}, \"house_size\": {\"title\": \"House Size\", \"description\": \"Size of the property in square feet\", \"minimum\": 0, \"type\": \"integer\"}, \"hoa_fees\": {\"title\": \"Hoa Fees\", \"description\": \"HOA fees in USD\", \"minimum\": 0, \"type\": \"integer\"}, \"year_built\": {\"title\": \"Year Built\", \"description\": \"Year built of the house\", \"minimum\": 0, \"type\": \"integer\"}, \"lot_size\": {\"title\": \"Lot Size\", \"description\": \"Size of the lot in square feet\", \"minimum\": 0, \"type\": \"integer\"}, \"garage_space\": {\"title\": \"Garage Space\", \"description\": \"Garage space.\", \"minimum\": 0, \"type\": \"integer\"}, \"property_type\": {\"title\": \"Property Type\", \"description\": \"Property type\", \"type\": \"string\"}, \"description\": {\"title\": \"Description\", \"description\": \"Description of the property.\", \"type\": \"string\"}}, \"required\": [\"price\", \"bedrooms\", \"bathrooms\", \"house_size\", \"hoa_fees\", \"year_built\", \"lot_size\", \"garage_space\", \"property_type\", \"description\"]}}}\n",
      "```\n",
      "Example: \n",
      "    Price: 865000,\n",
      "    Property Type: \"Single-Family Home\",\n",
      "    Bedrooms: 4,\n",
      "    Bathrooms: 3,\n",
      "    Year Built: 2018,\n",
      "    House Size: 2350,\n",
      "    Garage Space: 2,\n",
      "    HOA Fees ($/mo)\": 75\n",
      "    Description: Step into this stunning 4-bedroom, 3-bathroom single-family home, offering 2,350 square feet of thoughtfully designed living space. Built in 2018, this home balances modern style, function, and comfort in one inviting package.\n",
      "    Inside, you'll find a bright open floor plan ideal for entertaining and daily living. The gourmet kitchen seamlessly connects to the dining and living areas, while the two-car garage provides ample space for vehicles and storage.\n",
      "\n"
     ]
    }
   ],
   "source": [
    "from langchain.prompts import PromptTemplate\n",
    "\n",
    "# Prepare query\n",
    "prompt = PromptTemplate(\n",
    "    template=\"{question}\\n{format_instructions}\\nExample: {context}\",\n",
    "    input_variables=[\"question\", \"context\"],\n",
    "    partial_variables={\"format_instructions\": parser.get_format_instructions},\n",
    ")\n",
    "question = INSTRUCTION\n",
    "\n",
    "context = SAMPLE_LISTING\n",
    "\n",
    "query = prompt.format(context = context, question = question)\n",
    "print(query)"
   ]
  },
  {
   "cell_type": "markdown",
   "id": "78875c0b",
   "metadata": {},
   "source": [
    "#### Generate listings using prompt template technique"
   ]
  },
  {
   "cell_type": "code",
   "execution_count": 16,
   "id": "99e1f78f",
   "metadata": {},
   "outputs": [
    {
     "name": "stdout",
     "output_type": "stream",
     "text": [
      "{\n",
      "  \"listing\": [\n",
      "    {\n",
      "      \"price\": 865000,\n",
      "      \"property_type\": \"Single-Family Home\",\n",
      "      \"bedrooms\": 4,\n",
      "      \"bathrooms\": 3,\n",
      "      \"year_built\": 2018,\n",
      "      \"house_size\": 2350,\n",
      "      \"garage_space\": 2,\n",
      "      \"hoa_fees\": 75,\n",
      "      \"description\": \"Step into this stunning 4-bedroom, 3-bathroom single-family home, offering 2,350 square feet of thoughtfully designed living space. Built in 2018, this home balances modern style, function, and comfort in one inviting package. Inside, you'll find a bright open floor plan ideal for entertaining and daily living. The gourmet kitchen seamlessly connects to the dining and living areas, while the two-car garage provides ample space for vehicles and storage.\"\n",
      "    },\n",
      "    {\n",
      "      \"price\": 550000,\n",
      "      \"property_type\": \"Condo\",\n",
      "      \"bedrooms\": 2,\n",
      "      \"bathrooms\": 2,\n",
      "      \"year_built\": 2005,\n",
      "      \"house_size\": 1200,\n",
      "      \"garage_space\": 1,\n",
      "      \"hoa_fees\": 300,\n",
      "      \"description\": \"Luxurious 2-bedroom, 2-bathroom condo with 1,200 square feet of living space. This modern unit features high-end finishes, a spacious layout, and a private balcony with stunning views. The building amenities include a fitness center, pool, and 24-hour concierge service.\"\n",
      "    },\n",
      "    {\n",
      "      \"price\": 750000,\n",
      "      \"property_type\": \"Townhouse\",\n",
      "      \"bedrooms\": 3,\n",
      "      \"bathrooms\": 2.5,\n",
      "      \"year_built\": 1990,\n",
      "      \"house_size\": 1800,\n",
      "      \"garage_space\": 2,\n",
      "      \"hoa_fees\": 150,\n",
      "      \"description\": \"Charming 3-bedroom, 2.5-bathroom townhouse with 1,800 square feet of living space. This well-maintained home features a cozy fireplace, updated kitchen, and a private backyard. The attached two-car garage provides convenient parking and storage.\"\n",
      "    },\n",
      "    {\n",
      "      \"price\": 450000,\n",
      "      \"property_type\": \"Duplex\",\n",
      "      \"bedrooms\": 5,\n",
      "      \"bathrooms\": 3,\n",
      "      \"year_built\": 1985,\n",
      "      \"house_size\": 2400,\n",
      "      \"garage_space\": 0,\n",
      "      \"hoa_fees\": 0,\n",
      "      \"description\": \"Spacious 5-bedroom, 3-bathroom duplex with 2,400 square feet of living space. This income-generating property offers two separate units, each with its own entrance and private yard. Perfect for investors or multi-generational living.\"\n",
      "    },\n",
      "    {\n",
      "      \"price\": 650000,\n",
      "      \"property_type\": \"Ranch\",\n",
      "      \"bedrooms\": 3,\n",
      "      \"bathrooms\": 2,\n",
      "      \"year_built\": 1975,\n",
      "      \"house_size\": 2000,\n",
      "      \"garage_space\": 2,\n",
      "      \"hoa_fees\": 0,\n",
      "      \"description\": \"Classic 3-bedroom, 2-bathroom ranch-style home with 2,000 square feet of living space. This well-maintained property features a spacious backyard, updated kitchen, and a two-car garage. Enjoy single-level living in a peaceful neighborhood.\"\n",
      "    },\n",
      "    {\n",
      "      \"price\": 700000,\n",
      "      \"property_type\": \"Colonial\",\n",
      "      \"bedrooms\": 4,\n",
      "      \"bathrooms\": 3.5,\n",
      "      \"year_built\": 2000,\n",
      "      \"house_size\": 2800,\n",
      "      \"garage_space\": 2,\n",
      "      \"hoa_fees\": 100,\n",
      "      \"description\": \"Elegant 4-bedroom, 3.5-bathroom colonial home with 2,800 square feet of living space. This meticulously maintained property features a grand two-story foyer, gourmet kitchen, and a master suite with a spa-like bathroom. The landscaped backyard offers a tranquil retreat.\"\n",
      "    },\n",
      "    {\n",
      "      \"price\": 800000,\n",
      "      \"property_type\": \"Cottage\",\n",
      "      \"bedrooms\": 2,\n",
      "      \"bathrooms\": 1.5,\n",
      "      \"year_built\": 1950,\n",
      "      \"house_size\": 1500,\n",
      "      \"garage_space\": 1,\n",
      "      \"hoa_fees\": 50,\n",
      "      \"description\": \"Quaint 2-bedroom, 1.5-bathroom cottage with 1,500 square feet of living space. This charming home exudes character with original hardwood floors, a cozy fireplace, and a sunroom. The detached garage provides parking and storage space.\"\n",
      "    },\n",
      "    {\n",
      "      \"price\": 900000,\n",
      "      \"property_type\": \"Mansion\",\n",
      "      \"bedrooms\": 6,\n",
      "      \"bathrooms\": 5,\n",
      "      \"year_built\": 2010,\n",
      "      \"house_size\": 5000,\n",
      "      \"garage_space\": 3,\n",
      "      \"hoa_fees\": 200,\n",
      "      \"description\": \"Magnificent 6-bedroom, 5-bathroom mansion with 5,000 square feet of luxurious living space. This custom-built home boasts high-end finishes, a gourmet kitchen, home theater, and a private backyard with a pool and spa. The three-car garage offers ample storage for vehicles and more.\"\n",
      "    },\n",
      "    {\n",
      "      \"price\": 600000,\n",
      "      \"property_type\": \"Bungalow\",\n",
      "      \"bedrooms\": 3,\n",
      "      \"bathrooms\": 2,\n",
      "      \"year_built\": 1965,\n",
      "      \"house_size\": 1800,\n",
      "      \"garage_space\": 1,\n",
      "      \"hoa_fees\": 25,\n",
      "      \"description\": \"Cozy 3-bedroom, 2-bathroom bungalow with 1,800 square feet of living space. This charming home features a covered front porch, updated kitchen, and a fenced backyard. The detached garage provides parking and storage space.\"\n",
      "    },\n",
      "    {\n",
      "      \"price\": 950000,\n",
      "      \"property_type\": \"Penthouse\",\n",
      "      \"bedrooms\": 3,\n",
      "      \"bathrooms\": 3.5,\n",
      "      \"year_built\": 2015,\n",
      "      \"house_size\": 3000,\n",
      "      \"garage_space\": 2,\n",
      "      \"hoa_fees\": 500,\n",
      "      \"description\": \"Luxurious 3-bedroom, 3.5-bathroom penthouse with 3,000 square feet of living space. This upscale residence offers panoramic city views, high ceilings, gourmet kitchen, and a private rooftop terrace. The building amenities include a fitness center, pool, and concierge service.\"\n",
      "    },\n",
      "    {\n",
      "      \"price\": 400000,\n",
      "      \"property_type\": \"Cabin\",\n",
      "      \"bedrooms\": 2,\n",
      "      \"bathrooms\": 1,\n",
      "      \"year_built\": 1970,\n",
      "      \"house_size\": 1200,\n",
      "      \"garage_space\": 0,\n",
      "      \"hoa_fees\": 0,\n",
      "      \"description\": \"Secluded 2-bedroom, 1-bathroom cabin with 1,200 square feet of living space. This rustic retreat features a stone fireplace, wood beam ceilings, and a private deck overlooking the forest. Ideal for nature lovers seeking a tranquil escape.\"\n",
      "    },\n",
      "    {\n",
      "      \"price\": 850000,\n",
      "      \"property_type\": \"Villa\",\n",
      "      \"bedrooms\": 4,\n",
      "      \"bathrooms\": 4.5,\n",
      "      \"year_built\": 2008,\n",
      "      \"house_size\": 4000,\n",
      "      \"garage_space\": 2,\n",
      "      \"hoa_fees\": 150,\n",
      "      \"description\": \"Exquisite 4-bedroom, 4.5-bathroom villa with 4,000 square feet of luxury living space. This Mediterranean-style home features a grand foyer, marble floors, chef's kitchen, and a private courtyard with a fountain. The two-car garage offers convenience and security.\"\n",
      "    },\n",
      "    {\n",
      "      \"price\": 500000,\n",
      "      \"property_type\": \"Farmhouse\",\n",
      "      \"bedrooms\": 3,\n",
      "      \"bathrooms\": 2,\n",
      "      \"year_built\": 1980,\n",
      "      \"house_size\": 2200,\n",
      "      \"garage_space\": 0,\n",
      "      \"hoa_fees\": 0,\n",
      "      \"description\": \"Charming 3-bedroom, 2-bathroom farmhouse with 2,200 square feet of living space. This country retreat features a wrap-around porch, exposed beams, and a spacious kitchen. The expansive lot offers endless possibilities for gardening and outdoor activities.\"\n",
      "    },\n",
      "    {\n",
      "      \"price\": 750000,\n",
      "      \"property_type\": \"Loft\",\n",
      "      \"bedrooms\": 1,\n",
      "      \"bathrooms\": 1.5,\n",
      "      \"year_built\": 2003,\n",
      "      \"house_size\": 1500,\n",
      "      \"garage_space\": 0,\n",
      "      \"hoa_fees\": 200,\n",
      "      \"description\": \"Modern 1-bedroom, 1.5-bathroom loft with 1,500 square feet of open-concept living space. This industrial-chic residence features exposed brick walls, high ceilings, and oversized windows. The building amenities include a rooftop deck, gym, and secure parking.\"\n",
      "    },\n",
      "    {\n",
      "      \"price\": 700000,\n",
      "      \"property_type\": \"Tudor\",\n",
      "      \"bedrooms\": 4,\n",
      "      \"bathrooms\": 3,\n",
      "      \"year_built\": 1995,\n",
      "      \"house_size\": 2500,\n",
      "      \"garage_space\": 2,\n",
      "      \"hoa_fees\": 100,\n",
      "      \"description\": \"Stately 4-bedroom, 3-bathroom Tudor-style home with 2,500 square feet of living space. This timeless property features a formal dining room, wood-paneled library, and a master suite with a private balcony. The landscaped backyard offers a peaceful retreat.\"\n",
      "    }\n",
      "  ]\n",
      "}\n"
     ]
    }
   ],
   "source": [
    "# Now prompt to get 15 listings.\n",
    "output = llm.predict(query)\n",
    "print(output)"
   ]
  },
  {
   "cell_type": "code",
   "execution_count": 32,
   "id": "eeb7f261",
   "metadata": {},
   "outputs": [
    {
     "name": "stdout",
     "output_type": "stream",
     "text": [
      "listing=[RealEstateListing(price=865000, bedrooms=4, bathrooms=3, house_size=2350, hoa_fees=75, year_built=2018, garage_space=2, property_type='Single-Family Home', description=\"Step into this stunning 4-bedroom, 3-bathroom single-family home, offering 2,350 square feet of thoughtfully designed living space. Built in 2018, this home balances modern style, function, and comfort in one inviting package. Inside, you'll find a bright open floor plan ideal for entertaining and daily living. The gourmet kitchen seamlessly connects to the dining and living areas, while the two-car garage provides ample space for vehicles and storage.\"), RealEstateListing(price=550000, bedrooms=2, bathrooms=2, house_size=1200, hoa_fees=300, year_built=2005, garage_space=1, property_type='Condo', description='Luxurious 2-bedroom, 2-bathroom condo with 1,200 square feet of living space. This modern unit features high-end finishes, a spacious layout, and a private balcony with stunning views. The building amenities include a fitness center, pool, and 24-hour concierge service.'), RealEstateListing(price=750000, bedrooms=3, bathrooms=2, house_size=1800, hoa_fees=150, year_built=1990, garage_space=2, property_type='Townhouse', description='Charming 3-bedroom, 2.5-bathroom townhouse with 1,800 square feet of living space. This well-maintained home features a cozy fireplace, updated kitchen, and a private backyard. The attached two-car garage provides convenient parking and storage.'), RealEstateListing(price=450000, bedrooms=5, bathrooms=3, house_size=2400, hoa_fees=0, year_built=1985, garage_space=0, property_type='Duplex', description='Spacious 5-bedroom, 3-bathroom duplex with 2,400 square feet of living space. This income-generating property offers two separate units, each with its own entrance and private yard. Perfect for investors or multi-generational living.'), RealEstateListing(price=650000, bedrooms=3, bathrooms=2, house_size=2000, hoa_fees=0, year_built=1975, garage_space=2, property_type='Ranch', description='Classic 3-bedroom, 2-bathroom ranch-style home with 2,000 square feet of living space. This well-maintained property features a spacious backyard, updated kitchen, and a two-car garage. Enjoy single-level living in a peaceful neighborhood.'), RealEstateListing(price=700000, bedrooms=4, bathrooms=3, house_size=2800, hoa_fees=100, year_built=2000, garage_space=2, property_type='Colonial', description='Elegant 4-bedroom, 3.5-bathroom colonial home with 2,800 square feet of living space. This meticulously maintained property features a grand two-story foyer, gourmet kitchen, and a master suite with a spa-like bathroom. The landscaped backyard offers a tranquil retreat.'), RealEstateListing(price=800000, bedrooms=2, bathrooms=1, house_size=1500, hoa_fees=50, year_built=1950, garage_space=1, property_type='Cottage', description='Quaint 2-bedroom, 1.5-bathroom cottage with 1,500 square feet of living space. This charming home exudes character with original hardwood floors, a cozy fireplace, and a sunroom. The detached garage provides parking and storage space.'), RealEstateListing(price=900000, bedrooms=6, bathrooms=5, house_size=5000, hoa_fees=200, year_built=2010, garage_space=3, property_type='Mansion', description='Magnificent 6-bedroom, 5-bathroom mansion with 5,000 square feet of luxurious living space. This custom-built home boasts high-end finishes, a gourmet kitchen, home theater, and a private backyard with a pool and spa. The three-car garage offers ample storage for vehicles and more.'), RealEstateListing(price=600000, bedrooms=3, bathrooms=2, house_size=1800, hoa_fees=25, year_built=1965, garage_space=1, property_type='Bungalow', description='Cozy 3-bedroom, 2-bathroom bungalow with 1,800 square feet of living space. This charming home features a covered front porch, updated kitchen, and a fenced backyard. The detached garage provides parking and storage space.'), RealEstateListing(price=950000, bedrooms=3, bathrooms=3, house_size=3000, hoa_fees=500, year_built=2015, garage_space=2, property_type='Penthouse', description='Luxurious 3-bedroom, 3.5-bathroom penthouse with 3,000 square feet of living space. This upscale residence offers panoramic city views, high ceilings, gourmet kitchen, and a private rooftop terrace. The building amenities include a fitness center, pool, and concierge service.'), RealEstateListing(price=400000, bedrooms=2, bathrooms=1, house_size=1200, hoa_fees=0, year_built=1970, garage_space=0, property_type='Cabin', description='Secluded 2-bedroom, 1-bathroom cabin with 1,200 square feet of living space. This rustic retreat features a stone fireplace, wood beam ceilings, and a private deck overlooking the forest. Ideal for nature lovers seeking a tranquil escape.'), RealEstateListing(price=850000, bedrooms=4, bathrooms=4, house_size=4000, hoa_fees=150, year_built=2008, garage_space=2, property_type='Villa', description=\"Exquisite 4-bedroom, 4.5-bathroom villa with 4,000 square feet of luxury living space. This Mediterranean-style home features a grand foyer, marble floors, chef's kitchen, and a private courtyard with a fountain. The two-car garage offers convenience and security.\"), RealEstateListing(price=500000, bedrooms=3, bathrooms=2, house_size=2200, hoa_fees=0, year_built=1980, garage_space=0, property_type='Farmhouse', description='Charming 3-bedroom, 2-bathroom farmhouse with 2,200 square feet of living space. This country retreat features a wrap-around porch, exposed beams, and a spacious kitchen. The expansive lot offers endless possibilities for gardening and outdoor activities.'), RealEstateListing(price=750000, bedrooms=1, bathrooms=1, house_size=1500, hoa_fees=200, year_built=2003, garage_space=0, property_type='Loft', description='Modern 1-bedroom, 1.5-bathroom loft with 1,500 square feet of open-concept living space. This industrial-chic residence features exposed brick walls, high ceilings, and oversized windows. The building amenities include a rooftop deck, gym, and secure parking.'), RealEstateListing(price=700000, bedrooms=4, bathrooms=3, house_size=2500, hoa_fees=100, year_built=1995, garage_space=2, property_type='Tudor', description='Stately 4-bedroom, 3-bathroom Tudor-style home with 2,500 square feet of living space. This timeless property features a formal dining room, wood-paneled library, and a master suite with a private balcony. The landscaped backyard offers a peaceful retreat.')]\n"
     ]
    }
   ],
   "source": [
    "# Parse output and load data into CSVLoader\n",
    "result = parser.parse(output)\n",
    "print(result)"
   ]
  },
  {
   "cell_type": "markdown",
   "id": "6966e108",
   "metadata": {},
   "source": [
    "#### Pandas issues\n",
    "I can't load Pandas in my environment and I tried to reboot and pip install. Nothing worked. Hence I'm trying a different approach to store the LLM generated data into csv file."
   ]
  },
  {
   "cell_type": "code",
   "execution_count": 56,
   "id": "86b8c2cc",
   "metadata": {},
   "outputs": [],
   "source": [
    "import json\n",
    "import csv\n",
    "\n",
    "# Step 1: Parse the JSON string\n",
    "data = json.loads(output)['listing']\n",
    "\n",
    "# Step 2: Write to CSV using csv.DictWriter\n",
    "with open(\"real_estate_listing.csv\", \"w\", newline=\"\", encoding=\"utf-8\") as csvfile:\n",
    "    fieldnames = data[0].keys()  # Get column names from first dict\n",
    "    writer = csv.DictWriter(csvfile, fieldnames=fieldnames)\n",
    "\n",
    "    writer.writeheader()\n",
    "    for row in data:\n",
    "        writer.writerow(row)"
   ]
  },
  {
   "cell_type": "markdown",
   "id": "02f8896e",
   "metadata": {},
   "source": [
    "#### Load data from disk\n",
    "\n",
    "Load data from pre-saved CSV file. In the CSV file it should contain all listing attributes are can be used for vector query"
   ]
  },
  {
   "cell_type": "code",
   "execution_count": 58,
   "id": "029c923e",
   "metadata": {},
   "outputs": [
    {
     "name": "stdout",
     "output_type": "stream",
     "text": [
      "[Document(page_content=\"price: 865000\\nproperty_type: Single-Family Home\\nbedrooms: 4\\nbathrooms: 3\\nyear_built: 2018\\nhouse_size: 2350\\ngarage_space: 2\\nhoa_fees: 75\\ndescription: Step into this stunning 4-bedroom, 3-bathroom single-family home, offering 2,350 square feet of thoughtfully designed living space. Built in 2018, this home balances modern style, function, and comfort in one inviting package. Inside, you'll find a bright open floor plan ideal for entertaining and daily living. The gourmet kitchen seamlessly connects to the dining and living areas, while the two-car garage provides ample space for vehicles and storage.\", metadata={'source': './real_estate_listing.csv', 'row': 0}), Document(page_content='price: 550000\\nproperty_type: Condo\\nbedrooms: 2\\nbathrooms: 2\\nyear_built: 2005\\nhouse_size: 1200\\ngarage_space: 1\\nhoa_fees: 300\\ndescription: Luxurious 2-bedroom, 2-bathroom condo with 1,200 square feet of living space. This modern unit features high-end finishes, a spacious layout, and a private balcony with stunning views. The building amenities include a fitness center, pool, and 24-hour concierge service.', metadata={'source': './real_estate_listing.csv', 'row': 1}), Document(page_content='price: 750000\\nproperty_type: Townhouse\\nbedrooms: 3\\nbathrooms: 2.5\\nyear_built: 1990\\nhouse_size: 1800\\ngarage_space: 2\\nhoa_fees: 150\\ndescription: Charming 3-bedroom, 2.5-bathroom townhouse with 1,800 square feet of living space. This well-maintained home features a cozy fireplace, updated kitchen, and a private backyard. The attached two-car garage provides convenient parking and storage.', metadata={'source': './real_estate_listing.csv', 'row': 2}), Document(page_content='price: 450000\\nproperty_type: Duplex\\nbedrooms: 5\\nbathrooms: 3\\nyear_built: 1985\\nhouse_size: 2400\\ngarage_space: 0\\nhoa_fees: 0\\ndescription: Spacious 5-bedroom, 3-bathroom duplex with 2,400 square feet of living space. This income-generating property offers two separate units, each with its own entrance and private yard. Perfect for investors or multi-generational living.', metadata={'source': './real_estate_listing.csv', 'row': 3}), Document(page_content='price: 650000\\nproperty_type: Ranch\\nbedrooms: 3\\nbathrooms: 2\\nyear_built: 1975\\nhouse_size: 2000\\ngarage_space: 2\\nhoa_fees: 0\\ndescription: Classic 3-bedroom, 2-bathroom ranch-style home with 2,000 square feet of living space. This well-maintained property features a spacious backyard, updated kitchen, and a two-car garage. Enjoy single-level living in a peaceful neighborhood.', metadata={'source': './real_estate_listing.csv', 'row': 4}), Document(page_content='price: 700000\\nproperty_type: Colonial\\nbedrooms: 4\\nbathrooms: 3.5\\nyear_built: 2000\\nhouse_size: 2800\\ngarage_space: 2\\nhoa_fees: 100\\ndescription: Elegant 4-bedroom, 3.5-bathroom colonial home with 2,800 square feet of living space. This meticulously maintained property features a grand two-story foyer, gourmet kitchen, and a master suite with a spa-like bathroom. The landscaped backyard offers a tranquil retreat.', metadata={'source': './real_estate_listing.csv', 'row': 5}), Document(page_content='price: 800000\\nproperty_type: Cottage\\nbedrooms: 2\\nbathrooms: 1.5\\nyear_built: 1950\\nhouse_size: 1500\\ngarage_space: 1\\nhoa_fees: 50\\ndescription: Quaint 2-bedroom, 1.5-bathroom cottage with 1,500 square feet of living space. This charming home exudes character with original hardwood floors, a cozy fireplace, and a sunroom. The detached garage provides parking and storage space.', metadata={'source': './real_estate_listing.csv', 'row': 6}), Document(page_content='price: 900000\\nproperty_type: Mansion\\nbedrooms: 6\\nbathrooms: 5\\nyear_built: 2010\\nhouse_size: 5000\\ngarage_space: 3\\nhoa_fees: 200\\ndescription: Magnificent 6-bedroom, 5-bathroom mansion with 5,000 square feet of luxurious living space. This custom-built home boasts high-end finishes, a gourmet kitchen, home theater, and a private backyard with a pool and spa. The three-car garage offers ample storage for vehicles and more.', metadata={'source': './real_estate_listing.csv', 'row': 7}), Document(page_content='price: 600000\\nproperty_type: Bungalow\\nbedrooms: 3\\nbathrooms: 2\\nyear_built: 1965\\nhouse_size: 1800\\ngarage_space: 1\\nhoa_fees: 25\\ndescription: Cozy 3-bedroom, 2-bathroom bungalow with 1,800 square feet of living space. This charming home features a covered front porch, updated kitchen, and a fenced backyard. The detached garage provides parking and storage space.', metadata={'source': './real_estate_listing.csv', 'row': 8}), Document(page_content='price: 950000\\nproperty_type: Penthouse\\nbedrooms: 3\\nbathrooms: 3.5\\nyear_built: 2015\\nhouse_size: 3000\\ngarage_space: 2\\nhoa_fees: 500\\ndescription: Luxurious 3-bedroom, 3.5-bathroom penthouse with 3,000 square feet of living space. This upscale residence offers panoramic city views, high ceilings, gourmet kitchen, and a private rooftop terrace. The building amenities include a fitness center, pool, and concierge service.', metadata={'source': './real_estate_listing.csv', 'row': 9}), Document(page_content='price: 400000\\nproperty_type: Cabin\\nbedrooms: 2\\nbathrooms: 1\\nyear_built: 1970\\nhouse_size: 1200\\ngarage_space: 0\\nhoa_fees: 0\\ndescription: Secluded 2-bedroom, 1-bathroom cabin with 1,200 square feet of living space. This rustic retreat features a stone fireplace, wood beam ceilings, and a private deck overlooking the forest. Ideal for nature lovers seeking a tranquil escape.', metadata={'source': './real_estate_listing.csv', 'row': 10}), Document(page_content=\"price: 850000\\nproperty_type: Villa\\nbedrooms: 4\\nbathrooms: 4.5\\nyear_built: 2008\\nhouse_size: 4000\\ngarage_space: 2\\nhoa_fees: 150\\ndescription: Exquisite 4-bedroom, 4.5-bathroom villa with 4,000 square feet of luxury living space. This Mediterranean-style home features a grand foyer, marble floors, chef's kitchen, and a private courtyard with a fountain. The two-car garage offers convenience and security.\", metadata={'source': './real_estate_listing.csv', 'row': 11}), Document(page_content='price: 500000\\nproperty_type: Farmhouse\\nbedrooms: 3\\nbathrooms: 2\\nyear_built: 1980\\nhouse_size: 2200\\ngarage_space: 0\\nhoa_fees: 0\\ndescription: Charming 3-bedroom, 2-bathroom farmhouse with 2,200 square feet of living space. This country retreat features a wrap-around porch, exposed beams, and a spacious kitchen. The expansive lot offers endless possibilities for gardening and outdoor activities.', metadata={'source': './real_estate_listing.csv', 'row': 12}), Document(page_content='price: 750000\\nproperty_type: Loft\\nbedrooms: 1\\nbathrooms: 1.5\\nyear_built: 2003\\nhouse_size: 1500\\ngarage_space: 0\\nhoa_fees: 200\\ndescription: Modern 1-bedroom, 1.5-bathroom loft with 1,500 square feet of open-concept living space. This industrial-chic residence features exposed brick walls, high ceilings, and oversized windows. The building amenities include a rooftop deck, gym, and secure parking.', metadata={'source': './real_estate_listing.csv', 'row': 13}), Document(page_content='price: 700000\\nproperty_type: Tudor\\nbedrooms: 4\\nbathrooms: 3\\nyear_built: 1995\\nhouse_size: 2500\\ngarage_space: 2\\nhoa_fees: 100\\ndescription: Stately 4-bedroom, 3-bathroom Tudor-style home with 2,500 square feet of living space. This timeless property features a formal dining room, wood-paneled library, and a master suite with a private balcony. The landscaped backyard offers a peaceful retreat.', metadata={'source': './real_estate_listing.csv', 'row': 14})]\n"
     ]
    }
   ],
   "source": [
    "from langchain.document_loaders.csv_loader import CSVLoader\n",
    "\n",
    "loader = CSVLoader(file_path='./real_estate_listing.csv')\n",
    "loaded_data = loader.load()\n",
    "print(loaded_data)"
   ]
  },
  {
   "cell_type": "markdown",
   "id": "a64361ba",
   "metadata": {},
   "source": [
    "#### Storing listing into Vector Database\n",
    "Use LangChain OpenAIEmbeddings and Chroma to create Vector database."
   ]
  },
  {
   "cell_type": "code",
   "execution_count": 61,
   "id": "fffdcafc",
   "metadata": {},
   "outputs": [],
   "source": [
    "from langchain.embeddings.openai import OpenAIEmbeddings\n",
    "from langchain.vectorstores import Chroma\n",
    "embedding_function = OpenAIEmbeddings()\n",
    "db = Chroma.from_documents(loaded_data, embedding_function)"
   ]
  },
  {
   "cell_type": "markdown",
   "id": "839d8753",
   "metadata": {},
   "source": [
    "#### Collect user 1 personal questions and answer to determine preference"
   ]
  },
  {
   "cell_type": "code",
   "execution_count": 72,
   "id": "89f4a44a",
   "metadata": {},
   "outputs": [],
   "source": [
    "def build_homebuyer_prompt(questions, answers):\n",
    "    \"\"\"\n",
    "    Constructs a prompt that summarizes a home buyer's preferences.\n",
    "\n",
    "    Parameters:\n",
    "        questions (list of str): List of preference questions.\n",
    "        answers (list of str): Corresponding answers to the questions.\n",
    "\n",
    "    Returns:\n",
    "        str: A formatted prompt string for use in LLMs or filtering engines.\n",
    "    \"\"\"\n",
    "    preference_details = \"\\n\".join(\n",
    "        f\"- {q.strip('?')}: {a}\" for q, a in zip(questions, answers)\n",
    "    )\n",
    "\n",
    "    prompt = f\"\"\"The following is a summary of a home buyer's personal preferences for purchasing a house:\n",
    "\n",
    "    {preference_details}\n",
    "\n",
    "    Use these preferences to recommend or filter properties that best match the buyer's needs. If you cannot\n",
    "    a match or a recommendation say 'There is no listing that can fit your need.'\n",
    "    \"\"\"\n",
    "    return prompt"
   ]
  },
  {
   "cell_type": "code",
   "execution_count": 73,
   "id": "7f9c7ba9",
   "metadata": {},
   "outputs": [
    {
     "name": "stdout",
     "output_type": "stream",
     "text": [
      "The following is a summary of a home buyer's personal preferences for purchasing a house:\n",
      "\n",
      "    - What is your budget in USD: 1,000,000 USD\n",
      "- What is your desired house size: 2000+ sqft\n",
      "- What is your year built requirement: 1991\n",
      "- How is your family size? How many people need to live in the house: 4 people are living together\n",
      "\n",
      "    Use these preferences to recommend or filter properties that best match the buyer's needs. If you cannot\n",
      "    a match or a recommendation say 'There is no listing that can fit your need.'\n",
      "    \n"
     ]
    }
   ],
   "source": [
    "questions = [\n",
    "    \"What is your budget in USD?\",\n",
    "    \"What is your desired house size?\",\n",
    "    \"What is your year built requirement?\",\n",
    "    \"How is your family size? How many people need to live in the house?\"\n",
    "]\n",
    "\n",
    "answers = [\n",
    "    \"1,000,000 USD\",\n",
    "    \"2000+ sqft\",\n",
    "    \"1991\",\n",
    "    \"4 people are living together\"\n",
    "]\n",
    "\n",
    "# Final prompt\n",
    "user_query = build_homebuyer_prompt(questions, answers)\n",
    "\n",
    "print(user_query)"
   ]
  },
  {
   "cell_type": "code",
   "execution_count": 74,
   "id": "6c49da0f",
   "metadata": {},
   "outputs": [
    {
     "name": "stdout",
     "output_type": "stream",
     "text": [
      "Based on the buyer's preferences, the Single-Family Home priced at 865,000 USD with 2350 sqft of living space and built in 2018 would be the closest match.\n"
     ]
    }
   ],
   "source": [
    "from langchain.chains import RetrievalQA\n",
    "\n",
    "rag = RetrievalQA.from_chain_type(llm=llm, chain_type=\"stuff\", retriever=db.as_retriever())\n",
    "print(rag.run(user_query))"
   ]
  },
  {
   "cell_type": "markdown",
   "id": "ce7a5f88",
   "metadata": {},
   "source": [
    "#### Collect user 2 personal questions and answer to determine preference"
   ]
  },
  {
   "cell_type": "code",
   "execution_count": 81,
   "id": "87a3bc0e",
   "metadata": {
    "scrolled": true
   },
   "outputs": [
    {
     "name": "stdout",
     "output_type": "stream",
     "text": [
      "The following is a summary of a home buyer's personal preferences for purchasing a house:\n",
      "\n",
      "    - What is your budget in USD: 600,000 USD\n",
      "- What is your desired house size: 1000+ sqft\n",
      "- What is your year built requirement: No preference\n",
      "- How is your family size? How many people need to live in the house: 2 people are living together\n",
      "\n",
      "    Use these preferences to recommend or filter properties that best match the buyer's needs. If you cannot\n",
      "    a match or a recommendation say 'There is no listing that can fit your need.'\n",
      "    \n"
     ]
    }
   ],
   "source": [
    "questions_2 = [\n",
    "    \"What is your budget in USD?\",\n",
    "    \"What is your desired house size?\",\n",
    "    \"What is your year built requirement?\",\n",
    "    \"How is your family size? How many people need to live in the house?\"\n",
    "]\n",
    "\n",
    "answers_2 = [\n",
    "    \"600,000 USD\",\n",
    "    \"1000+ sqft\",\n",
    "    \"No preference\",\n",
    "    \"2 people are living together\"\n",
    "]\n",
    "\n",
    "user_query_2 = build_homebuyer_prompt(questions_2, answers_2)\n",
    "print(user_query_2)"
   ]
  },
  {
   "cell_type": "code",
   "execution_count": 82,
   "id": "d3474cbd",
   "metadata": {},
   "outputs": [
    {
     "name": "stdout",
     "output_type": "stream",
     "text": [
      "Based on the buyer's preferences, the best match would be the cozy 3-bedroom, 2-bathroom bungalow priced at $600,000 with 1,800 square feet of living space.\n"
     ]
    }
   ],
   "source": [
    "rag = RetrievalQA.from_chain_type(llm=llm, chain_type=\"stuff\", retriever=db.as_retriever())\n",
    "print(rag.run(user_query_2))"
   ]
  },
  {
   "cell_type": "markdown",
   "id": "55edd609",
   "metadata": {},
   "source": [
    "#### Augmented Response Generation\n",
    "\n",
    "In this section, I'm going to setup the application to allow LLM using RAG to respond to users inquiries."
   ]
  },
  {
   "cell_type": "code",
   "execution_count": 88,
   "id": "645580dd",
   "metadata": {},
   "outputs": [
    {
     "name": "stdout",
     "output_type": "stream",
     "text": [
      "Human: \n",
      "You are a Real Estate Agent, answer the question based only on the \n",
      "following questions and answer collected from the user. You can use\n",
      "these questions and answer to determine buyer's preference.\n",
      "\n",
      "What is your budget in USD?: 1,000,000 USD\n",
      "What is your desired house size?: 2000+ sqft\n",
      "What is your year built requirement?: 1991\n",
      "How is your family size? How many people need to live in the house?: 4 people are living together\n",
      "\n",
      "---\n",
      "\n",
      "Given the context provided above, craft a response that not only \n",
      "answers the question, but also ensures that your \n",
      "reasoning for prompting the answer aligns with user's preference.\n",
      "For example, make the description more appeal to the user.\n",
      "\n",
      "Keep in mind, your response is aiming to attract the user to make a\n",
      "purchase.\n",
      "\n",
      "Question: I want to buy a house and I need your help.\n",
      "\n",
      "\n",
      "[(Document(page_content=\"price: 865000\\nproperty_type: Single-Family Home\\nbedrooms: 4\\nbathrooms: 3\\nyear_built: 2018\\nhouse_size: 2350\\ngarage_space: 2\\nhoa_fees: 75\\ndescription: Step into this stunning 4-bedroom, 3-bathroom single-family home, offering 2,350 square feet of thoughtfully designed living space. Built in 2018, this home balances modern style, function, and comfort in one inviting package. Inside, you'll find a bright open floor plan ideal for entertaining and daily living. The gourmet kitchen seamlessly connects to the dining and living areas, while the two-car garage provides ample space for vehicles and storage.\", metadata={'row': 0, 'source': './real_estate_listing.csv'}), 0.6902489861271282), (Document(page_content='price: 500000\\nproperty_type: Farmhouse\\nbedrooms: 3\\nbathrooms: 2\\nyear_built: 1980\\nhouse_size: 2200\\ngarage_space: 0\\nhoa_fees: 0\\ndescription: Charming 3-bedroom, 2-bathroom farmhouse with 2,200 square feet of living space. This country retreat features a wrap-around porch, exposed beams, and a spacious kitchen. The expansive lot offers endless possibilities for gardening and outdoor activities.', metadata={'row': 12, 'source': './real_estate_listing.csv'}), 0.6845038859863355), (Document(page_content='price: 600000\\nproperty_type: Bungalow\\nbedrooms: 3\\nbathrooms: 2\\nyear_built: 1965\\nhouse_size: 1800\\ngarage_space: 1\\nhoa_fees: 25\\ndescription: Cozy 3-bedroom, 2-bathroom bungalow with 1,800 square feet of living space. This charming home features a covered front porch, updated kitchen, and a fenced backyard. The detached garage provides parking and storage space.', metadata={'row': 8, 'source': './real_estate_listing.csv'}), 0.6827322010623316)]\n"
     ]
    }
   ],
   "source": [
    "from langchain.prompts import ChatPromptTemplate\n",
    "\n",
    "PROMPT_TEMPLATE = \"\"\"\n",
    "You are a Real Estate Agent, answer the question based only on the \n",
    "following questions and answer collected from the user. You can use\n",
    "these questions and answer to determine buyer's preference.\n",
    "\n",
    "{questions_and_answers}\n",
    "\n",
    "---\n",
    "\n",
    "Given the context provided above, craft a response that not only \n",
    "answers the question, but also ensures that your \n",
    "reasoning for prompting the answer aligns with user's preference.\n",
    "For example, make the description more appeal to the user.\n",
    "\n",
    "Keep in mind, your response is aiming to attract the user to make a\n",
    "purchase.\n",
    "\n",
    "Question: {question}\n",
    "\"\"\"\n",
    "\n",
    "query_text = \"I want to buy a house and I need your help.\" \n",
    "questions_and_answers = \"\\n\".join([f\"{q}: {a}\" for q, a in zip(questions, answers)])\n",
    "prompt_template = ChatPromptTemplate.from_template(PROMPT_TEMPLATE)\n",
    "prompt = prompt_template.format(questions_and_answers=questions_and_answers, question=query_text)\n",
    "results = db.similarity_search_with_relevance_scores(query_text, k=3)\n",
    "final_prompt = f\"{prompt}\\n\\n{results}\"\n",
    "print(final_prompt)\n",
    "\n"
   ]
  },
  {
   "cell_type": "code",
   "execution_count": 89,
   "id": "5717d6b2",
   "metadata": {},
   "outputs": [
    {
     "name": "stdout",
     "output_type": "stream",
     "text": [
      "Based on your preferences, I have found a perfect match for you! \n",
      "\n",
      "I recommend considering this stunning 4-bedroom, 3-bathroom single-family home priced at $865,000. This home offers 2,350 square feet of thoughtfully designed living space, meeting your desired size of 2000+ sqft. Built in 2018, this modern home balances style, function, and comfort seamlessly. \n",
      "\n",
      "With a spacious open floor plan ideal for entertaining and daily living, this home is perfect for your family of 4. The gourmet kitchen connects to the dining and living areas, creating a warm and inviting atmosphere. Additionally, the two-car garage provides ample space for your vehicles and storage needs.\n",
      "\n",
      "This property aligns with your budget and size requirements, making it an ideal choice for your new home. Let's schedule a visit to see this dream home in person!\n"
     ]
    }
   ],
   "source": [
    "response = llm.predict(final_prompt)\n",
    "print(response)"
   ]
  },
  {
   "cell_type": "code",
   "execution_count": null,
   "id": "33934de5",
   "metadata": {},
   "outputs": [],
   "source": []
  }
 ],
 "metadata": {
  "kernelspec": {
   "display_name": "Python 3 (ipykernel)",
   "language": "python",
   "name": "python3"
  },
  "language_info": {
   "codemirror_mode": {
    "name": "ipython",
    "version": 3
   },
   "file_extension": ".py",
   "mimetype": "text/x-python",
   "name": "python",
   "nbconvert_exporter": "python",
   "pygments_lexer": "ipython3",
   "version": "3.10.11"
  }
 },
 "nbformat": 4,
 "nbformat_minor": 5
}
